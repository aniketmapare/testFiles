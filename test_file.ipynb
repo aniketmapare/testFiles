{
  "nbformat": 4,
  "nbformat_minor": 0,
  "metadata": {
    "colab": {
      "provenance": []
    },
    "kernelspec": {
      "name": "python3",
      "display_name": "Python 3"
    },
    "language_info": {
      "name": "python"
    }
  },
  "cells": [
    {
      "cell_type": "code",
      "execution_count": null,
      "metadata": {
        "colab": {
          "base_uri": "https://localhost:8080/"
        },
        "id": "tVnnojmKkmn7",
        "outputId": "d568a155-b61f-4e32-b874-a802df6266c0"
      },
      "outputs": [
        {
          "output_type": "stream",
          "name": "stdout",
          "text": [
            "hello\n"
          ]
        }
      ],
      "source": [
        "print(\"hello\")"
      ]
    },
    {
      "cell_type": "code",
      "source": [
        "print (\"hello world\")"
      ],
      "metadata": {
        "id": "UwJaEJtnkxmp",
        "colab": {
          "base_uri": "https://localhost:8080/"
        },
        "outputId": "e9a8698e-3405-4158-9097-e796977933d5"
      },
      "execution_count": 1,
      "outputs": [
        {
          "output_type": "stream",
          "name": "stdout",
          "text": [
            "hello world\n"
          ]
        }
      ]
    },
    {
      "cell_type": "code",
      "source": [
        "1+1"
      ],
      "metadata": {
        "id": "TyOar4GSpBUs",
        "colab": {
          "base_uri": "https://localhost:8080/"
        },
        "outputId": "edb9184d-f346-4dff-fd9f-41136ceaf2d2"
      },
      "execution_count": 2,
      "outputs": [
        {
          "output_type": "execute_result",
          "data": {
            "text/plain": [
              "2"
            ]
          },
          "metadata": {},
          "execution_count": 2
        }
      ]
    },
    {
      "cell_type": "code",
      "source": [
        "print (\"why are you taking so much time to execute\")"
      ],
      "metadata": {
        "colab": {
          "base_uri": "https://localhost:8080/"
        },
        "id": "f0PiKkQchHJC",
        "outputId": "c0c5dcd2-51bb-454c-df46-713b706d432e"
      },
      "execution_count": 3,
      "outputs": [
        {
          "output_type": "stream",
          "name": "stdout",
          "text": [
            "why are you taking so much time to execute\n"
          ]
        }
      ]
    },
    {
      "cell_type": "code",
      "source": [
        "# this is just a test file im uploading on git"
      ],
      "metadata": {
        "id": "m05CVjXnhTYc"
      },
      "execution_count": null,
      "outputs": []
    }
  ]
}